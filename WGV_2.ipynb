{
 "metadata": {
  "language_info": {
   "codemirror_mode": {
    "name": "ipython",
    "version": 3
   },
   "file_extension": ".py",
   "mimetype": "text/x-python",
   "name": "python",
   "nbconvert_exporter": "python",
   "pygments_lexer": "ipython3",
   "version": "3.8.2"
  },
  "orig_nbformat": 4,
  "kernelspec": {
   "name": "python3",
   "display_name": "Python 3.8.2 32-bit"
  },
  "interpreter": {
   "hash": "4487ce35dd150455cc8cee7ba062b874ebed2008c10055b51a501ef3fd24d173"
  }
 },
 "nbformat": 4,
 "nbformat_minor": 2,
 "cells": [
  {
   "cell_type": "code",
   "execution_count": 1,
   "source": [
    "import overall as main"
   ],
   "outputs": [],
   "metadata": {}
  },
  {
   "cell_type": "markdown",
   "source": [
    "# Beispiele"
   ],
   "metadata": {}
  },
  {
   "cell_type": "markdown",
   "source": [
    "## Beispiel 1: Skript 1.6.1: Rahmen\r\n"
   ],
   "metadata": {}
  },
  {
   "cell_type": "code",
   "execution_count": 2,
   "source": [
    "db = {\r\n",
    "    'matqs': {\r\n",
    "        'materials': {\r\n",
    "            '1': {'E': 100000}\r\n",
    "        },\r\n",
    "\r\n",
    "        'cross_sections': {\r\n",
    "            '1': {'h': 0.41602, 'b': 100000}\r\n",
    "        },\r\n",
    "    },\r\n",
    "\r\n",
    "    'system': {\r\n",
    "        'nodes': {\r\n",
    "            '1': {'x':  0, 'z': 0, 'sup': {'x': -1, 'z': -1, 'y': -1}, 'alpha': 0.0},\r\n",
    "            '2': {'x':  6, 'z': 0, 'sup': {'x':  0, 'z':  0, 'y':  0}, 'alpha': 0.0},\r\n",
    "            '3': {'x': 12, 'z': 0, 'sup': {'x':  0, 'z':  0, 'y':  1000}, 'alpha': 0.0},\r\n",
    "            '4': {'x': 12, 'z': 6, 'sup': {'x': -1, 'z': -1, 'y':  0}, 'alpha': 0.0},\r\n",
    "        },\r\n",
    "\r\n",
    "        'bars': { # globale barteilung in dat vorgeben, lokal überschreitbar, Liste der Koordinaten hier speichern\r\n",
    "            '1': {'l': '1', 'r': '2', 'EI': 6000, 'EA': 1000000, 'fixa': {'N': -1, 'V': -1, 'M': -1}, 'fixe': {'N': -1, 'V': -1, 'M': -1}, 'elems': 20},\r\n",
    "            '2': {'l': '2', 'r': '3', 'EI': 6000, 'EA': 1000000, 'fixa': {'N': -1, 'V': -1, 'M': -1}, 'fixe': {'N': -1, 'V': -1, 'M': -1}, 'elems': 20},\r\n",
    "            '3': {'l': '3', 'r': '4', 'EI': 6000, 'EA': 1000000, 'fixa': {'N': -1, 'V': -1, 'M': -1}, 'fixe': {'N': -1, 'V': -1, 'M': -1}, 'elems': 20},\r\n",
    "        },\r\n",
    "    },\r\n",
    "\r\n",
    "    'load': {\r\n",
    "        'LF_Komb': {\r\n",
    "            'G_1': {'GAMU': 1.35, 'GAMF': 1.00, 'PSI0': 1.00, 'PSI1': 1.00, 'PSI2': 1.00},\r\n",
    "            'G_2': {'GAMU': 1.35, 'GAMF': 1.00, 'PSI0': 1.00, 'PSI1': 1.00, 'PSI2': 1.00},\r\n",
    "            'Q_1': {'GAMU': 1.50, 'GAMF': 0.00, 'PSI0': 0.80, 'PSI1': 0.30, 'PSI2': 0.20},\r\n",
    "        },\r\n",
    "\r\n",
    "        'LC': {\r\n",
    "            '1': {\r\n",
    "                'type': 'G_1', \r\n",
    "\r\n",
    "                'node': [\r\n",
    "                ],\r\n",
    "\r\n",
    "                'bar': [\r\n",
    "                    {'nr': '1', 'p_zl': 2, 'p_zr': 2, 'p_xl': 0, 'p_xr': 0},\r\n",
    "                    {'nr': '2', 'p_zl': 2, 'p_zr': 2, 'p_xl': 0, 'p_xr': 0},\r\n",
    "                ]\r\n",
    "            }\r\n",
    "        }\r\n",
    "    },\r\n",
    "\r\n",
    "    'calc': {\r\n",
    "        '1': None \r\n",
    "    },\r\n",
    "\r\n",
    "    'comb': {\r\n",
    "        \r\n",
    "    },\r\n",
    "}"
   ],
   "outputs": [],
   "metadata": {}
  },
  {
   "cell_type": "code",
   "execution_count": 3,
   "source": [
    "main.calculate_system(db)\r\n",
    "main.calculate_load(db)\r\n",
    "main.calculate_calc(db)\r\n",
    "\r\n",
    "#save_database(db, 'db_test2.json')\r\n",
    "#test = load_database('db_test2.json')"
   ],
   "outputs": [
    {
     "output_type": "stream",
     "name": "stdout",
     "text": [
      "[]\n"
     ]
    }
   ],
   "metadata": {}
  },
  {
   "cell_type": "code",
   "execution_count": 4,
   "source": [
    "#print(db['load']['LC']['1']['wgv'])\r\n",
    "print(db['calc']['1']['s_I'])#['1']['M'])"
   ],
   "outputs": [
    {
     "output_type": "stream",
     "name": "stdout",
     "text": [
      "[ -1.99762651 -28.01574442  13.99962413  -1.99762651  13.99962413\n",
      " -15.98500731 -10.99743857 -11.98575904   0.           3.99924827]\n"
     ]
    }
   ],
   "metadata": {}
  },
  {
   "cell_type": "markdown",
   "source": [
    "## Beispiel 2: Tragwerke 2 Abb. 3.7: Rahmentragwerk\r\n"
   ],
   "metadata": {}
  },
  {
   "cell_type": "code",
   "execution_count": 19,
   "source": [
    "db2 = {\r\n",
    "    'matqs': {\r\n",
    "        'materials': {\r\n",
    "            '1': {'E': 100000}\r\n",
    "        },\r\n",
    "\r\n",
    "        'cross_sections': {\r\n",
    "            '1': {'h': 0.41602, 'b': 100000}\r\n",
    "        },\r\n",
    "    },\r\n",
    "\r\n",
    "    'system': {\r\n",
    "        'nodes': {\r\n",
    "            '1': {'x':  0, 'z': 0, 'sup': {'x': -1, 'z': -1, 'y':  0}, 'alpha': 0.0},\r\n",
    "            '2': {'x':  4, 'z': 0, 'sup': {'x':  0, 'z':  0, 'y':  0}, 'alpha': 0.0},\r\n",
    "            '3': {'x':  8, 'z': 0, 'sup': {'x':  0, 'z':  0, 'y':  0}, 'alpha': 0.0},\r\n",
    "            '4': {'x':  8, 'z': 5, 'sup': {'x': -1, 'z': -1, 'y':  0}, 'alpha': 0.0},\r\n",
    "        },\r\n",
    "\r\n",
    "        'bars': { # globale barteilung in dat vorgeben, lokal überschreitbar, Liste der Koordinaten hier speichern\r\n",
    "            '1': {'l': '1', 'r': '2', 'EI': 6666.67, 'EA': 40000, 'fixa': {'N': -1, 'V': -1, 'M': -1}, 'fixe': {'N': -1, 'V': -1, 'M': -1}, 'elems': 20},\r\n",
    "            '2': {'l': '2', 'r': '3', 'EI': 6666.67, 'EA': 40000, 'fixa': {'N': -1, 'V': -1, 'M': -1}, 'fixe': {'N': -1, 'V': -1, 'M': 0}, 'elems': 20},\r\n",
    "            '3': {'l': '3', 'r': '4', 'EI': 6944.44, 'EA': 41666.67, 'fixa': {'N': -1, 'V': -1, 'M': -1}, 'fixe': {'N': -1, 'V': -1, 'M': -1}, 'elems': 20},\r\n",
    "        },\r\n",
    "    },\r\n",
    "\r\n",
    "    'load': {\r\n",
    "        'LF_Komb': {\r\n",
    "            'G_1': {'GAMU': 1.35, 'GAMF': 1.00, 'PSI0': 1.00, 'PSI1': 1.00, 'PSI2': 1.00},\r\n",
    "            'G_2': {'GAMU': 1.35, 'GAMF': 1.00, 'PSI0': 1.00, 'PSI1': 1.00, 'PSI2': 1.00},\r\n",
    "            'Q_1': {'GAMU': 1.50, 'GAMF': 0.00, 'PSI0': 0.80, 'PSI1': 0.30, 'PSI2': 0.20},\r\n",
    "        },\r\n",
    "\r\n",
    "        'LC': {\r\n",
    "            '1': {\r\n",
    "                'type': 'G_1', \r\n",
    "\r\n",
    "                'node': [\r\n",
    "                ],\r\n",
    "\r\n",
    "                'bar': [\r\n",
    "                    {'nr': '1', 'p_zl': 2, 'p_zr': 2, 'p_xl': 0, 'p_xr': 0},\r\n",
    "                    {'nr': '2', 'p_zl': 2, 'p_zr': 2, 'p_xl': 0, 'p_xr': 0},\r\n",
    "                ]\r\n",
    "            }\r\n",
    "        }\r\n",
    "    },\r\n",
    "\r\n",
    "    'calc': {\r\n",
    "        '1': None \r\n",
    "    },\r\n",
    "\r\n",
    "    'comb': {\r\n",
    "        \r\n",
    "    },\r\n",
    "}"
   ],
   "outputs": [],
   "metadata": {}
  },
  {
   "cell_type": "code",
   "execution_count": 20,
   "source": [
    "main.calculate_system(db2)"
   ],
   "outputs": [
    {
     "output_type": "stream",
     "name": "stdout",
     "text": [
      "[('3', 'y', '2')]\n"
     ]
    }
   ],
   "metadata": {}
  },
  {
   "cell_type": "code",
   "execution_count": 26,
   "source": [
    "a, pos = db2['system']['wgv']['a'], db2['system']['wgv']['node_deforms']\r\n",
    "print(pos)\r\n",
    "for row in a:\r\n",
    "    for value in row:\r\n",
    "        text = f'{value:+.2f}' if round(value, 5) != 0 else ' '*5\r\n",
    "        print(text, end=\" \")\r\n",
    "    print()\r\n",
    "\r\n",
    "print()\r\n",
    "k = db2['system']['wgv']['k']\r\n",
    "for row in k:\r\n",
    "    for value in row:\r\n",
    "        text = f'{value:+9.2f}' if round(value, 5) != 0 else ' '*9\r\n",
    "        print(text, end=\" \")\r\n",
    "    print()\r\n",
    "\r\n",
    "print()\r\n",
    "K = db2['system']['wgv']['K']\r\n",
    "for row in K:\r\n",
    "    for value in row:\r\n",
    "        text = f'{value:+9.2f}' if round(value, 5) != 0 else ' '*9\r\n",
    "        print(text, end=\" \")\r\n",
    "    print()"
   ],
   "outputs": [
    {
     "output_type": "stream",
     "name": "stdout",
     "text": [
      "[('1', 'y'), ('2', 'x'), ('2', 'z'), ('2', 'y'), ('3', 'x'), ('3', 'z'), ('3', 'y'), ('3', 'y', '2'), ('4', 'y')]\n",
      "      +1.00                                           \n",
      "+1.00       +0.25                                     \n",
      "            +0.25 +1.00                               \n",
      "      -1.00             +1.00                         \n",
      "            -0.25 +1.00       +0.25                   \n",
      "            -0.25             +0.25       +1.00       \n",
      "                              -1.00                   \n",
      "                        +0.20       +1.00             \n",
      "                        +0.20                   +1.00 \n",
      "\n",
      "+10000.00                                                                                 \n",
      "           +6666.67  +3333.34                                                             \n",
      "           +3333.34  +6666.67                                                             \n",
      "                              +10000.00                                                   \n",
      "                                         +6666.67  +3333.34                               \n",
      "                                         +3333.34  +6666.67                               \n",
      "                                                             +8333.33                     \n",
      "                                                                       +5555.55  +2777.78 \n",
      "                                                                       +2777.78  +5555.55 \n",
      "\n",
      " +6666.67            +2500.00  +3333.34                                                   \n",
      "          +20000.00                     -10000.00                                         \n",
      " +2500.00            +2500.00                      -1250.00            -2500.00           \n",
      " +3333.34                     +13333.34            +2500.00            +3333.34           \n",
      "          -10000.00                     +10666.67            +1666.67            +1666.67 \n",
      "                     -1250.00  +2500.00            +9583.33            +2500.00           \n",
      "                                         +1666.67            +5555.55            +2777.78 \n",
      "                     -2500.00  +3333.34            +2500.00            +6666.67           \n",
      "                                         +1666.67            +2777.78            +5555.55 \n"
     ]
    }
   ],
   "metadata": {}
  },
  {
   "cell_type": "markdown",
   "source": [
    "## Beispiel 3: Tragwerke 2 Abb. 3.8: Rahmentragwerk\r\n"
   ],
   "metadata": {}
  },
  {
   "cell_type": "code",
   "execution_count": 29,
   "source": [
    "db3 = {\r\n",
    "    'matqs': {\r\n",
    "        'materials': {\r\n",
    "            '1': {'E': 100000}\r\n",
    "        },\r\n",
    "\r\n",
    "        'cross_sections': {\r\n",
    "            '1': {'h': 0.41602, 'b': 100000}\r\n",
    "        },\r\n",
    "    },\r\n",
    "\r\n",
    "    'system': {\r\n",
    "        'nodes': {\r\n",
    "            '1': {'x':  0, 'z': 0, 'sup': {'x': -1, 'z': -1, 'y': -1}, 'alpha': 0.0},\r\n",
    "            '2': {'x':  4, 'z': 0, 'sup': {'x':  0, 'z':  0, 'y':  0}, 'alpha': 0.0},\r\n",
    "            '3': {'x':  8, 'z': 0, 'sup': {'x':  0, 'z':  0, 'y':  0}, 'alpha': 0.0},\r\n",
    "            '4': {'x':  8, 'z': 5, 'sup': {'x': -1, 'z': -1, 'y':  0}, 'alpha': 0.0},\r\n",
    "        },\r\n",
    "\r\n",
    "        'bars': { # globale barteilung in dat vorgeben, lokal überschreitbar, Liste der Koordinaten hier speichern\r\n",
    "            '1': {'l': '1', 'r': '2', 'EI': 6666.67, 'EA': 40000, 'fixa': {'N': -1, 'V': -1, 'M': -1}, 'fixe': {'N': -1, 'V': -1, 'M': -1}, 'elems': 20},\r\n",
    "            '2': {'l': '2', 'r': '3', 'EI': 6666.67, 'EA': 40000, 'fixa': {'N': -1, 'V': -1, 'M': -1}, 'fixe': {'N': -1, 'V': -1, 'M': -1}, 'elems': 20},\r\n",
    "            '3': {'l': '3', 'r': '4', 'EI': 6944.44, 'EA': 41666.67, 'fixa': {'N': -1, 'V': -1, 'M': -1}, 'fixe': {'N': -1, 'V': -1, 'M': -1}, 'elems': 20},\r\n",
    "        },\r\n",
    "    },\r\n",
    "\r\n",
    "    'load': {\r\n",
    "        'LF_Komb': {\r\n",
    "            'G_1': {'GAMU': 1.35, 'GAMF': 1.00, 'PSI0': 1.00, 'PSI1': 1.00, 'PSI2': 1.00},\r\n",
    "            'G_2': {'GAMU': 1.35, 'GAMF': 1.00, 'PSI0': 1.00, 'PSI1': 1.00, 'PSI2': 1.00},\r\n",
    "            'Q_1': {'GAMU': 1.50, 'GAMF': 0.00, 'PSI0': 0.80, 'PSI1': 0.30, 'PSI2': 0.20},\r\n",
    "        },\r\n",
    "\r\n",
    "        'LC': {\r\n",
    "            '1': {\r\n",
    "                'type': 'G_1', \r\n",
    "\r\n",
    "                'node': [\r\n",
    "                ],\r\n",
    "\r\n",
    "                'bar': [\r\n",
    "                    {'nr': '1', 'p_zl': 2, 'p_zr': 2, 'p_xl': 0, 'p_xr': 0},\r\n",
    "                    {'nr': '2', 'p_zl': 2, 'p_zr': 2, 'p_xl': 0, 'p_xr': 0},\r\n",
    "                ]\r\n",
    "            }\r\n",
    "        }\r\n",
    "    },\r\n",
    "\r\n",
    "    'calc': {\r\n",
    "        '1': None \r\n",
    "    },\r\n",
    "\r\n",
    "    'comb': {\r\n",
    "        \r\n",
    "    },\r\n",
    "}"
   ],
   "outputs": [],
   "metadata": {}
  },
  {
   "cell_type": "code",
   "execution_count": 30,
   "source": [
    "main.calculate_system(db3)"
   ],
   "outputs": [
    {
     "output_type": "stream",
     "name": "stdout",
     "text": [
      "[]\n"
     ]
    }
   ],
   "metadata": {}
  },
  {
   "cell_type": "code",
   "execution_count": 35,
   "source": [
    "a, pos = db3['system']['wgv']['a'], db3['system']['wgv']['node_deforms']\r\n",
    "print(pos)\r\n",
    "for row in a:\r\n",
    "    for value in row:\r\n",
    "        text = f'{value:+.2f}' if round(value, 5) != 0 else ' '*5\r\n",
    "        print(text, end=\" \")\r\n",
    "    print()\r\n",
    "\r\n",
    "print()\r\n",
    "k = db3['system']['wgv']['k']\r\n",
    "for row in k:\r\n",
    "    for value in row:\r\n",
    "        text = f'{value:+9.2f}' if round(value, 5) != 0 else ' '*9\r\n",
    "        print(text, end=\" \")\r\n",
    "    print()\r\n",
    "\r\n",
    "print()\r\n",
    "K = db3['system']['wgv']['K']\r\n",
    "for row in K:\r\n",
    "    for value in row:\r\n",
    "        text = f'{value:>+10.2f}' if round(value, 5) != 0 else ' '*10\r\n",
    "        print(text, end=\" \")\r\n",
    "    print()"
   ],
   "outputs": [
    {
     "output_type": "stream",
     "name": "stdout",
     "text": [
      "[('2', 'x'), ('2', 'z'), ('2', 'y'), ('3', 'x'), ('3', 'z'), ('3', 'y'), ('4', 'y')]\n",
      "+1.00                                     \n",
      "      +0.25                               \n",
      "      +0.25 +1.00                         \n",
      "-1.00             +1.00                   \n",
      "      -0.25 +1.00       +0.25             \n",
      "      -0.25             +0.25 +1.00       \n",
      "                        -1.00             \n",
      "                  +0.20       +1.00       \n",
      "                  +0.20             +1.00 \n",
      "\n",
      "+10000.00                                                                                 \n",
      "           +6666.67  +3333.34                                                             \n",
      "           +3333.34  +6666.67                                                             \n",
      "                              +10000.00                                                   \n",
      "                                         +6666.67  +3333.34                               \n",
      "                                         +3333.34  +6666.67                               \n",
      "                                                             +8333.33                     \n",
      "                                                                       +5555.55  +2777.78 \n",
      "                                                                       +2777.78  +5555.55 \n",
      "\n",
      " +20000.00                        -10000.00                                  \n",
      "             +2500.00                         -1250.00   -2500.00            \n",
      "                       +13333.34              +2500.00   +3333.34            \n",
      " -10000.00                        +10666.67              +1666.67   +1666.67 \n",
      "             -1250.00   +2500.00              +9583.33   +2500.00            \n",
      "             -2500.00   +3333.34   +1666.67   +2500.00  +12222.22   +2777.78 \n",
      "                                   +1666.67              +2777.78   +5555.55 \n"
     ]
    }
   ],
   "metadata": {}
  },
  {
   "cell_type": "markdown",
   "source": [
    "## Beispiel 4: Skript 1.6.2: Ebenes Fachwerk\r\n"
   ],
   "metadata": {}
  },
  {
   "cell_type": "code",
   "execution_count": 115,
   "source": [
    "db4 = {\r\n",
    "    'matqs': {\r\n",
    "        'materials': {\r\n",
    "            '1': {'E': 100000}\r\n",
    "        },\r\n",
    "\r\n",
    "        'cross_sections': {\r\n",
    "            '1': {'h': 0.41602, 'b': 100000}\r\n",
    "        },\r\n",
    "    },\r\n",
    "\r\n",
    "    'system': {\r\n",
    "        'nodes': {\r\n",
    "            '1': {'x':  0, 'z':  0, 'sup': {'x':  0, 'z':  0, 'y':  0}, 'alpha': 0.0},\r\n",
    "            '2': {'x': -4, 'z':  4, 'sup': {'x': -1, 'z': -1, 'y':  0}, 'alpha': 0.0},\r\n",
    "            '3': {'x':  4, 'z':  4, 'sup': {'x': -1, 'z': -1, 'y':  0}, 'alpha': 0.0},\r\n",
    "            '4': {'x':  0, 'z':  6, 'sup': {'x':  0, 'z': 500, 'y':  0}, 'alpha': 0.0},\r\n",
    "        },\r\n",
    "\r\n",
    "        'bars': { # globale barteilung in dat vorgeben, lokal überschreitbar, Liste der Koordinaten hier speichern\r\n",
    "            '1': {'l': '1', 'r': '2', 'EI': 100000, 'EA': 10000, 'fixa': {'N': -1, 'V': -1, 'M': -1}, 'fixe': {'N': -1, 'V': -1, 'M': -1}, 'elems': 20},\r\n",
    "            '2': {'l': '1', 'r': '3', 'EI': 100000, 'EA': 10000, 'fixa': {'N': -1, 'V': -1, 'M': -1}, 'fixe': {'N': -1, 'V': -1, 'M': -1}, 'elems': 20},\r\n",
    "            '3': {'l': '2', 'r': '4', 'EI': 100000, 'EA': 10000, 'fixa': {'N': -1, 'V': -1, 'M': -1}, 'fixe': {'N': -1, 'V': -1, 'M': -1}, 'elems': 20},\r\n",
    "            '4': {'l': '3', 'r': '4', 'EI': 100000, 'EA': 10000, 'fixa': {'N': -1, 'V': -1, 'M': -1}, 'fixe': {'N': -1, 'V': -1, 'M': -1}, 'elems': 20},\r\n",
    "            '5': {'l': '1', 'r': '4', 'EI': 100000, 'EA': 10000000, 'fixa': {'N': -1, 'V': -1, 'M': -1}, 'fixe': {'N': -1, 'V': -1, 'M': -1}, 'elems': 20},\r\n",
    "        },\r\n",
    "    },\r\n",
    "\r\n",
    "    'load': {\r\n",
    "        'LF_Komb': {\r\n",
    "            'G_1': {'GAMU': 1.35, 'GAMF': 1.00, 'PSI0': 1.00, 'PSI1': 1.00, 'PSI2': 1.00},\r\n",
    "            'G_2': {'GAMU': 1.35, 'GAMF': 1.00, 'PSI0': 1.00, 'PSI1': 1.00, 'PSI2': 1.00},\r\n",
    "            'Q_1': {'GAMU': 1.50, 'GAMF': 0.00, 'PSI0': 0.80, 'PSI1': 0.30, 'PSI2': 0.20},\r\n",
    "        },\r\n",
    "\r\n",
    "        'LC': {\r\n",
    "            '1': {\r\n",
    "                'type': 'G_1', \r\n",
    "\r\n",
    "                'node': [\r\n",
    "                    {'nr': 1, 'val': 10, 'type': 'F', 'alpha': 90},\r\n",
    "                ],\r\n",
    "\r\n",
    "                'bar': [\r\n",
    "                    #{'nr': '1', 'p_zl': 2, 'p_zr': 2, 'p_xl': 0, 'p_xr': 0},\r\n",
    "                    #{'nr': '2', 'p_zl': 2, 'p_zr': 2, 'p_xl': 0, 'p_xr': 0},\r\n",
    "                ]\r\n",
    "            }\r\n",
    "        }\r\n",
    "    },\r\n",
    "\r\n",
    "    'calc': {\r\n",
    "        '1': None \r\n",
    "    },\r\n",
    "\r\n",
    "    'comb': {\r\n",
    "        \r\n",
    "    },\r\n",
    "}"
   ],
   "outputs": [],
   "metadata": {}
  },
  {
   "cell_type": "code",
   "execution_count": 116,
   "source": [
    "main.calculate_system(db4)\r\n",
    "main.calculate_load(db4)"
   ],
   "outputs": [
    {
     "output_type": "stream",
     "name": "stdout",
     "text": [
      "[]\n"
     ]
    }
   ],
   "metadata": {}
  },
  {
   "cell_type": "code",
   "execution_count": 117,
   "source": [
    "db4['load']['LC']['1']['wgv']"
   ],
   "outputs": [
    {
     "output_type": "execute_result",
     "data": {
      "text/plain": [
       "{'s_0': array([0., 0., 0., 0., 0., 0., 0., 0., 0., 0., 0., 0., 0., 0., 0., 0.]),\n",
       " 'P_0': array([0., 0., 0., 0., 0., 0., 0., 0.]),\n",
       " 'P_bar': array([0., 0., 0., 0., 0., 0., 0., 0.]),\n",
       " 'P': array([0., 0., 0., 0., 0., 0., 0., 0.])}"
      ]
     },
     "metadata": {},
     "execution_count": 117
    }
   ],
   "metadata": {}
  },
  {
   "cell_type": "code",
   "execution_count": 60,
   "source": [
    "a, pos = db4['system']['wgv']['a'], db4['system']['wgv']['node_deforms']\r\n",
    "for p in pos:\r\n",
    "    print (f'{p[0]} {p[1]}    ', end=\"\")\r\n",
    "print()\r\n",
    "\r\n",
    "for row in a[::3]:\r\n",
    "    for value in row:\r\n",
    "        text = f'{value:+.3f}' if round(value, 5) != 0 else ' '*5\r\n",
    "        print(text, end=\" \")\r\n",
    "    print()\r\n",
    "\r\n",
    "print()\r\n",
    "k = db4['system']['wgv']['k']\r\n",
    "for row in k[::3]:\r\n",
    "    for value in row:\r\n",
    "        text = f'{value:+9.2f}' if round(value, 5) != 0 else ' '*9\r\n",
    "        print(text, end=\" \")\r\n",
    "    print()\r\n",
    "\r\n",
    "print()\r\n",
    "K = db4['system']['wgv']['K']\r\n",
    "for row in K:\r\n",
    "    for value in row:\r\n",
    "        text = f'{value:+9.2f}' if round(value, 5) != 0 else ' '*9\r\n",
    "        print(text, end=\" \")\r\n",
    "    print()"
   ],
   "outputs": [
    {
     "output_type": "stream",
     "name": "stdout",
     "text": [
      "1 x    1 z    1 y    2 y    3 y    4 x    4 z    4 y    \n",
      "+0.707 -0.707                                     \n",
      "-0.707 -0.707                                     \n",
      "                              +0.894 +0.447       \n",
      "                              -0.894 +0.447       \n",
      "      -1.000                         +1.000       \n",
      "                                    -1.000       \n",
      "\n",
      " +1767.77                                                                                                                                                       \n",
      "                               +1767.77                                                                                                                         \n",
      "                                                             +2236.07                                                                                           \n",
      "                                                                                           +2236.07                                                             \n",
      "                                                                                                                        +1666666.67                               \n",
      "                                                                                                                                                        +500.00 \n",
      "\n",
      "+13952.45           +43183.17 +13258.25 +13258.25  -5555.56           +16666.67 \n",
      "          +1675063.56           +13258.25 -13258.25           -1666666.67           \n",
      "+43183.17           +208088.02 +35355.34 +35355.34 -16666.67           +33333.33 \n",
      "+13258.25 +13258.25 +35355.34 +160153.40           -13416.41 +26832.82 +44721.36 \n",
      "+13258.25 -13258.25 +35355.34           +160153.40 -13416.41 -26832.82 +44721.36 \n",
      " -5555.56           -16666.67 -13416.41 -13416.41 +14499.83           -43499.48 \n",
      "          -1666666.67           +26832.82 -26832.82           +1689527.35           \n",
      "+16666.67           +33333.33 +44721.36 +44721.36 -43499.48           +245552.10 \n"
     ]
    }
   ],
   "metadata": {}
  },
  {
   "cell_type": "code",
   "execution_count": 109,
   "source": [
    "a_red = []\r\n",
    "for row in a:\r\n",
    "    a_red_row = []\r\n",
    "    for i, cell in enumerate(row):\r\n",
    "        if pos[i][1] != 'y':\r\n",
    "            a_red_row.append(cell)\r\n",
    "\r\n",
    "    a_red.append(a_red_row)\r\n",
    "\r\n",
    "a_red = a_red[::3]\r\n",
    "\r\n",
    "k_red = []\r\n",
    "for i, row in enumerate(k):\r\n",
    "    length = len(row)\r\n",
    "    nr_springs = len(db4['system']['springs'])\r\n",
    "\r\n",
    "    if i == length-1:\r\n",
    "        pass\r\n",
    "        print(list(row[:length-nr_springs:3]), end=\" \")\r\n",
    "        print(row[length:length-nr_springs-1:-1])\r\n",
    "        print(list(row[:length-nr_springs:3]) + row[length:length-nr_springs-1:-1])\r\n",
    "\r\n",
    "    k_red_row = list(row[:length-nr_springs:3])\r\n",
    "    k_red_row.extend(row[length:length-nr_springs-1:-1])\r\n",
    "    #print(k_red_row)\r\n",
    "    k_red.append(k_red_row)\r\n",
    "\r\n",
    "k_red = k_red[::3]\r\n",
    "\r\n",
    "K_red = np.matmul(np.matmul(np.array(a_red).transpose(), np.array(k_red)), np.array(a_red))"
   ],
   "outputs": [
    {
     "output_type": "stream",
     "name": "stdout",
     "text": [
      "[0.0, 0.0, 0.0, 0.0, 0.0] [500.]\n",
      "[500. 500. 500. 500. 500.]\n"
     ]
    }
   ],
   "metadata": {}
  },
  {
   "cell_type": "code",
   "execution_count": 110,
   "source": [
    "for row in a_red:\r\n",
    "    for value in row:\r\n",
    "        text = f'{value:+9.2f}' if round(value, 5) != 0 else ' '*9\r\n",
    "        print(text, end=\" \")\r\n",
    "    print()\r\n",
    "\r\n",
    "for row in k_red:\r\n",
    "    for value in row:\r\n",
    "        text = f'{value:+9.2f}' if round(value, 5) != 0 else ' '*9\r\n",
    "        print(text, end=\" \")\r\n",
    "    print()\r\n",
    "\r\n",
    "for row in K_red:\r\n",
    "    for value in row:\r\n",
    "        text = f'{value:+9.2f}' if round(value, 5) != 0 else ' '*9\r\n",
    "        print(text, end=\" \")\r\n",
    "    print()"
   ],
   "outputs": [
    {
     "output_type": "stream",
     "name": "stdout",
     "text": [
      "    +0.71     -0.71                     \n",
      "    -0.71     -0.71                     \n",
      "                        +0.89     +0.45 \n",
      "                        -0.89     +0.45 \n",
      "              -1.00               +1.00 \n",
      "                                  -1.00 \n",
      " +1767.77                                                   \n",
      "           +1767.77                                         \n",
      "                     +2236.07                               \n",
      "                               +2236.07                     \n",
      "                                        +1666666.67           \n",
      "                                                    +500.00 \n",
      " +1767.77                               \n",
      "          +1668434.43           -1666666.67 \n",
      "                     +3577.71           \n",
      "          -1666666.67           +1668061.09 \n"
     ]
    }
   ],
   "metadata": {}
  },
  {
   "cell_type": "markdown",
   "source": [
    "## Beispiel 5: Skript 1.6.3: Unverschieblicher Rahmen\r\n"
   ],
   "metadata": {}
  },
  {
   "cell_type": "code",
   "execution_count": 15,
   "source": [
    "db5 = {\r\n",
    "    'matqs': {\r\n",
    "        'materials': {\r\n",
    "            '1': {'E': 100000}\r\n",
    "        },\r\n",
    "\r\n",
    "        'cross_sections': {\r\n",
    "            '1': {'h': 0.41602, 'b': 100000}\r\n",
    "        },\r\n",
    "    },\r\n",
    "\r\n",
    "    'system': {\r\n",
    "        'nodes': {\r\n",
    "            '1': {'x':  0, 'z': 0, 'sup': {'x': -1, 'z': -1, 'y':  -1}, 'alpha': 0.0},\r\n",
    "            '2': {'x':  0, 'z': -12, 'sup': {'x':  0, 'z':  0, 'y':  0}, 'alpha': 0.0},\r\n",
    "            '3': {'x':  4, 'z': -9, 'sup': {'x':  0, 'z':  0, 'y':  0}, 'alpha': 0.0},\r\n",
    "            '4': {'x':  8, 'z': -6, 'sup': {'x':  0, 'z':  0, 'y':  0}, 'alpha': 0.0},\r\n",
    "            '5': {'x':  12, 'z': -6, 'sup': {'x': -1, 'z': 0, 'y':  0}, 'alpha': 0.0},\r\n",
    "            '6': {'x':  8, 'z': 0, 'sup': {'x': -1, 'z': -1, 'y':  0}, 'alpha': 0.0},\r\n",
    "        },\r\n",
    "\r\n",
    "        'bars': { # globale barteilung in dat vorgeben, lokal überschreitbar, Liste der Koordinaten hier speichern\r\n",
    "            '1': {'l': '2', 'r': '3', 'EI': 20000, 'EA': 100000000, 'fixa': {'N': -1, 'V': -1, 'M': -1}, 'fixe': {'N': -1, 'V': -1, 'M': -1}, 'elems': 20},\r\n",
    "            '2': {'l': '3', 'r': '4', 'EI': 20000, 'EA': 100000000, 'fixa': {'N': -1, 'V': -1, 'M': -1}, 'fixe': {'N': -1, 'V': -1, 'M': -1}, 'elems': 20},\r\n",
    "            '3': {'l': '4', 'r': '5', 'EI': 20000, 'EA': 100000000, 'fixa': {'N': -1, 'V': -1, 'M': -1}, 'fixe': {'N': -1, 'V': -1, 'M': -1}, 'elems': 20},\r\n",
    "            '4': {'l': '1', 'r': '2', 'EI':  5000, 'EA': 100000000, 'fixa': {'N': -1, 'V': -1, 'M': -1}, 'fixe': {'N': -1, 'V': -1, 'M': -1}, 'elems': 20},\r\n",
    "            '5': {'l': '4', 'r': '6', 'EI':  5000, 'EA': 100000000, 'fixa': {'N': -1, 'V': -1, 'M': -1}, 'fixe': {'N': -1, 'V': -1, 'M': -1}, 'elems': 20},\r\n",
    "        },\r\n",
    "    },\r\n",
    "\r\n",
    "    'load': {\r\n",
    "        'LF_Komb': {\r\n",
    "            'G_1': {'GAMU': 1.35, 'GAMF': 1.00, 'PSI0': 1.00, 'PSI1': 1.00, 'PSI2': 1.00},\r\n",
    "            'G_2': {'GAMU': 1.35, 'GAMF': 1.00, 'PSI0': 1.00, 'PSI1': 1.00, 'PSI2': 1.00},\r\n",
    "            'Q_1': {'GAMU': 1.50, 'GAMF': 0.00, 'PSI0': 0.80, 'PSI1': 0.30, 'PSI2': 0.20},\r\n",
    "        },\r\n",
    "\r\n",
    "        'LC': {\r\n",
    "            '1': {\r\n",
    "                'type': 'G_1', \r\n",
    "\r\n",
    "                'node': [\r\n",
    "                    {'nr': '3', 'val': 50, 'type': 'F', 'alpha': 90},\r\n",
    "                    {'nr': '5', 'val': 5, 'type': 'F', 'alpha': 90},\r\n",
    "                ],\r\n",
    "\r\n",
    "                'bar': [\r\n",
    "                    {'nr': '4', 'p_zl': 10, 'p_zr': 10, 'p_xl': 0, 'p_xr': 0},\r\n",
    "                ]\r\n",
    "            }\r\n",
    "        }\r\n",
    "    },\r\n",
    "\r\n",
    "    'calc': {\r\n",
    "        '1': None \r\n",
    "    },\r\n",
    "\r\n",
    "    'comb': {\r\n",
    "        \r\n",
    "    },\r\n",
    "}"
   ],
   "outputs": [],
   "metadata": {}
  },
  {
   "cell_type": "code",
   "execution_count": 16,
   "source": [
    "main.calculate_system(db5)\r\n",
    "main.calculate_load(db5)\r\n",
    "main.calculate_calc(db5)"
   ],
   "outputs": [],
   "metadata": {}
  },
  {
   "cell_type": "code",
   "execution_count": 17,
   "source": [
    "a, pos = db5['system']['wgv']['a'], db5['system']['wgv']['node_deforms']\r\n",
    "\r\n",
    "for p in pos:\r\n",
    "    print(\"  \", p[0], p[1], end = \"\")\r\n",
    "print()\r\n",
    "\r\n",
    "for i, row in enumerate(a):\r\n",
    "    stab = i//3 + 1\r\n",
    "    #print(stab, end=\" \")\r\n",
    "    for value in row:\r\n",
    "        text = f'{value:+.2f}' if round(value, 5) != 0 else ' '*5\r\n",
    "        #print(text, end=\" \")\r\n",
    "    #print()\r\n",
    "\r\n",
    "print()\r\n",
    "k = db5['system']['wgv']['k']\r\n",
    "for row in k:\r\n",
    "    for value in row:\r\n",
    "        text = f'{value:+9.2f}' if round(value, 5) != 0 else ' '*9\r\n",
    "        #print(text, end=\" \")\r\n",
    "    #print()\r\n",
    "\r\n",
    "print()\r\n",
    "K = db5['system']['wgv']['K']\r\n",
    "for row in K:\r\n",
    "    for value in row:\r\n",
    "        text = f'{value:+9.2f}' if round(value, 5) != 0 else ' '*9\r\n",
    "        print(text, end=\" \")\r\n",
    "    print()"
   ],
   "outputs": [
    {
     "output_type": "stream",
     "name": "stdout",
     "text": [
      "   2 x   2 z   2 y   3 x   3 z   3 y   4 x   4 z   4 y   5 z   5 y   6 y\n",
      "\n",
      "\n",
      "+12800725.92 +9599078.40  +3088.33 -12800691.20 -9599078.40  +2880.00                                                             \n",
      "+9599078.40 +15534562.13  -3840.00 -9599078.40 -7201228.80  -3840.00                                                             \n",
      " +3088.33  -3840.00 +17666.67  -2880.00  +3840.00  +8000.00                                                             \n",
      "-12800691.20 -9599078.40  -2880.00 +25601382.40 +19198156.80           -12800691.20 -9599078.40  +2880.00                               \n",
      "-9599078.40 -7201228.80  +3840.00 +19198156.80 +14402457.60           -9599078.40 -7201228.80  -3840.00                               \n",
      " +2880.00  -3840.00  +8000.00                     +32000.00  -2880.00  +3840.00  +8000.00                               \n",
      "                              -12800691.20 -9599078.40  -2880.00 +37800968.98 +9599078.40  -2046.67                       +833.33 \n",
      "                              -9599078.40 -7201228.80  +3840.00 +9599078.40 +23871645.47  -3660.00  -3750.00  -7500.00           \n",
      "                               +2880.00  -3840.00  +8000.00  -2046.67  -3660.00 +39333.33  +7500.00 +10000.00  +1666.67 \n",
      "                                                                       -3750.00  +7500.00  +3750.00  +7500.00           \n",
      "                                                                       -7500.00 +10000.00  +7500.00 +20000.00           \n",
      "                                                              +833.33            +1666.67                      +3333.33 \n"
     ]
    }
   ],
   "metadata": {}
  },
  {
   "cell_type": "code",
   "execution_count": 18,
   "source": [
    "print(db5['load']['LC']['1']['wgv'])\r\n",
    "#print(db5['calc']['1']['s']['1']['M'])\r\n",
    "print(db5['calc']['1']['s_I'])\r\n",
    "#main.save_database(db5, 'db_bsp5.json')"
   ],
   "outputs": [
    {
     "output_type": "stream",
     "name": "stdout",
     "text": [
      "{'s_0': array([   0.,    0.,    0.,    0.,    0.,    0.,    0.,    0.,    0.,\n",
      "          0.,  120., -120.,    0.,    0.,    0.]), 'P_0': array([6.0000000e+01, 3.6739404e-15, 0.0000000e+00, 0.0000000e+00,\n",
      "       0.0000000e+00, 0.0000000e+00, 0.0000000e+00, 0.0000000e+00,\n",
      "       0.0000000e+00, 0.0000000e+00, 0.0000000e+00, 0.0000000e+00]), 'P_bar': array([ 0.000000e+00,  0.000000e+00,  0.000000e+00, -3.061617e-15,\n",
      "        5.000000e+01,  0.000000e+00,  0.000000e+00,  0.000000e+00,\n",
      "        0.000000e+00,  5.000000e+00,  0.000000e+00,  0.000000e+00]), 'P': array([ 6.0000000e+01,  3.6739404e-15,  1.2000000e+02, -3.0616170e-15,\n",
      "        5.0000000e+01,  0.0000000e+00,  0.0000000e+00,  0.0000000e+00,\n",
      "        0.0000000e+00,  5.0000000e+00,  0.0000000e+00,  0.0000000e+00])}\n",
      "[-5.15475792e+01 -1.08010924e+02  3.58489000e+01 -8.15475792e+01\n",
      "  3.58489000e+01 -2.02912760e+01 -5.84526962e+01 -2.00000000e+01\n",
      "  6.39488462e-14  7.91097569e+00 -1.25996017e+02 -1.08010924e+02\n",
      " -6.29109757e+01  2.91276039e-01  2.72004641e-15]\n"
     ]
    }
   ],
   "metadata": {}
  },
  {
   "cell_type": "markdown",
   "source": [
    "## Beispiel 6: Skript 1.6.3: Unverschieblicher Rahmen ohne Kragarm\r\n"
   ],
   "metadata": {}
  },
  {
   "cell_type": "code",
   "execution_count": 6,
   "source": [
    "db6 = {\r\n",
    "    'matqs': {\r\n",
    "        'materials': {\r\n",
    "            '1': {'E': 100000}\r\n",
    "        },\r\n",
    "\r\n",
    "        'cross_sections': {\r\n",
    "            '1': {'h': 0.41602, 'b': 100000}\r\n",
    "        },\r\n",
    "    },\r\n",
    "\r\n",
    "    'system': {\r\n",
    "        'nodes': {\r\n",
    "            '1': {'x':  0, 'z': 0, 'sup': {'x': -1, 'z': -1, 'y':  -1}, 'alpha': 0.0},\r\n",
    "            '2': {'x':  0, 'z': -12, 'sup': {'x':  0, 'z':  0, 'y':  0}, 'alpha': 0.0},\r\n",
    "            '3': {'x':  4, 'z': -9, 'sup': {'x':  0, 'z':  0, 'y':  0}, 'alpha': 0.0},\r\n",
    "            '4': {'x':  8, 'z': -6, 'sup': {'x': -1, 'z':  0, 'y':  0}, 'alpha': 0.0},\r\n",
    "            #'5': {'x':  12, 'z': -6, 'sup': {'x': -1, 'z': 0, 'y':  0}, 'alpha': 0.0},\r\n",
    "            '6': {'x':  8, 'z': 0, 'sup': {'x': -1, 'z': -1, 'y':  0}, 'alpha': 0.0},\r\n",
    "        },\r\n",
    "\r\n",
    "        'bars': { # globale barteilung in dat vorgeben, lokal überschreitbar, Liste der Koordinaten hier speichern\r\n",
    "            '1': {'l': '2', 'r': '3', 'EI': 20000, 'EA': 100000000, 'fixa': {'N': -1, 'V': -1, 'M': -1}, 'fixe': {'N': -1, 'V': -1, 'M': -1}, 'elems': 20},\r\n",
    "            '2': {'l': '3', 'r': '4', 'EI': 20000, 'EA': 100000000, 'fixa': {'N': -1, 'V': -1, 'M': -1}, 'fixe': {'N': -1, 'V': -1, 'M': -1}, 'elems': 20},\r\n",
    "            #'3': {'l': '4', 'r': '5', 'EI': 20000, 'EA': 1000000, 'fixa': {'N': -1, 'V': -1, 'M': -1}, 'fixe': {'N': -1, 'V': -1, 'M': -1}, 'elems': 20},\r\n",
    "            '4': {'l': '1', 'r': '2', 'EI':  5000, 'EA': 100000000, 'fixa': {'N': -1, 'V': -1, 'M': -1}, 'fixe': {'N': -1, 'V': -1, 'M': -1}, 'elems': 20},\r\n",
    "            '5': {'l': '4', 'r': '6', 'EI':  5000, 'EA': 100000000, 'fixa': {'N': -1, 'V': -1, 'M': -1}, 'fixe': {'N': -1, 'V': -1, 'M': -1}, 'elems': 20},\r\n",
    "        },\r\n",
    "    },\r\n",
    "\r\n",
    "    'load': {\r\n",
    "        'LF_Komb': {\r\n",
    "            'G_1': {'GAMU': 1.35, 'GAMF': 1.00, 'PSI0': 1.00, 'PSI1': 1.00, 'PSI2': 1.00},\r\n",
    "            'G_2': {'GAMU': 1.35, 'GAMF': 1.00, 'PSI0': 1.00, 'PSI1': 1.00, 'PSI2': 1.00},\r\n",
    "            'Q_1': {'GAMU': 1.50, 'GAMF': 0.00, 'PSI0': 0.80, 'PSI1': 0.30, 'PSI2': 0.20},\r\n",
    "        },\r\n",
    "\r\n",
    "        'LC': {\r\n",
    "            '1': {\r\n",
    "                'type': 'G_1', \r\n",
    "\r\n",
    "                'node': [\r\n",
    "                    {'nr': '3', 'val': 50, 'type': 'F', 'alpha': 90},\r\n",
    "                    {'nr': '4', 'val': -20, 'type': 'M'},\r\n",
    "                    {'nr': '4', 'val': 5, 'type': 'F', 'alpha': 90},\r\n",
    "                ],\r\n",
    "\r\n",
    "                'bar': [\r\n",
    "                    {'nr': '4', 'p_zl': 10, 'p_zr': 10, 'p_xl': 0, 'p_xr': 0},\r\n",
    "                ]\r\n",
    "            }\r\n",
    "        }\r\n",
    "    },\r\n",
    "\r\n",
    "    'calc': {\r\n",
    "        '1': None \r\n",
    "    },\r\n",
    "\r\n",
    "    'comb': {\r\n",
    "        \r\n",
    "    },\r\n",
    "}"
   ],
   "outputs": [],
   "metadata": {}
  },
  {
   "cell_type": "code",
   "execution_count": 7,
   "source": [
    "main.calculate_system(db6)\r\n",
    "main.calculate_load(db6)\r\n",
    "main.calculate_calc(db6)"
   ],
   "outputs": [],
   "metadata": {}
  },
  {
   "cell_type": "code",
   "execution_count": 8,
   "source": [
    "a, pos = db6['system']['wgv']['a'], db6['system']['wgv']['node_deforms']\r\n",
    "\r\n",
    "for p in pos:\r\n",
    "    print(\"  \", p[0], p[1], end = \"\")\r\n",
    "print()\r\n",
    "\r\n",
    "for i, row in enumerate(a):\r\n",
    "    stab = i//3 + 1\r\n",
    "    #print(stab, end=\" \")\r\n",
    "    for value in row:\r\n",
    "        text = f'{value:+.2f}' if round(value, 5) != 0 else ' '*5\r\n",
    "        #print(text, end=\" \")\r\n",
    "    #print()\r\n",
    "\r\n",
    "print()\r\n",
    "k = db6['system']['wgv']['k']\r\n",
    "for row in k:\r\n",
    "    for value in row:\r\n",
    "        text = f'{value:+9.2f}' if round(value, 5) != 0 else ' '*9\r\n",
    "        print(text, end=\" \")\r\n",
    "    print()\r\n",
    "\r\n",
    "print()\r\n",
    "K = db6['system']['wgv']['K']\r\n",
    "for row in K:\r\n",
    "    for value in row:\r\n",
    "        text = f'{value:+9.2f}' if round(value, 5) != 0 else ' '*9\r\n",
    "        print(text, end=\" \")\r\n",
    "    print()"
   ],
   "outputs": [
    {
     "output_type": "stream",
     "name": "stdout",
     "text": [
      "   2 x   2 z   2 y   3 x   3 z   3 y   4 z   4 y   6 y\n",
      "\n",
      "+20000000.00                                                                                                               \n",
      "          +16000.00  +8000.00                                                                                           \n",
      "           +8000.00 +16000.00                                                                                           \n",
      "                              +20000000.00                                                                                 \n",
      "                                        +16000.00  +8000.00                                                             \n",
      "                                         +8000.00 +16000.00                                                             \n",
      "                                                            +8333333.33                                                   \n",
      "                                                                       +1666.67   +833.33                               \n",
      "                                                                        +833.33  +1666.67                               \n",
      "                                                                                          +16666666.67                     \n",
      "                                                                                                     +3333.33  +1666.67 \n",
      "                                                                                                     +1666.67  +3333.33 \n",
      "\n",
      "+12800725.92 +9599078.40  +3088.33 -12800691.20 -9599078.40  +2880.00                               \n",
      "+9599078.40 +15534562.13  -3840.00 -9599078.40 -7201228.80  -3840.00                               \n",
      " +3088.33  -3840.00 +17666.67  -2880.00  +3840.00  +8000.00                               \n",
      "-12800691.20 -9599078.40  -2880.00 +25601382.40 +19198156.80           -9599078.40  +2880.00           \n",
      "-9599078.40 -7201228.80  +3840.00 +19198156.80 +14402457.60           -7201228.80  -3840.00           \n",
      " +2880.00  -3840.00  +8000.00                     +32000.00  +3840.00  +8000.00           \n",
      "                              -9599078.40 -7201228.80  +3840.00 +23867895.47  +3840.00           \n",
      "                               +2880.00  -3840.00  +8000.00  +3840.00 +19333.33  +1666.67 \n",
      "                                                                       +1666.67  +3333.33 \n"
     ]
    }
   ],
   "metadata": {}
  },
  {
   "cell_type": "code",
   "execution_count": 10,
   "source": [
    "print(db6['load']['LC']['1']['wgv'])\r\n",
    "#print(db5['calc']['1']['s']['1']['M'])\r\n",
    "print(db6['calc']['1']['s_I'])\r\n",
    "#main.save_database(db5, 'db_bsp5.json')"
   ],
   "outputs": [
    {
     "output_type": "stream",
     "name": "stdout",
     "text": [
      "{'s_0': array([   0.,    0.,    0.,    0.,    0.,    0.,    0.,  120., -120.,\n",
      "          0.,    0.,    0.]), 'P_0': array([6.0000000e+01, 3.6739404e-15, 0.0000000e+00, 0.0000000e+00,\n",
      "       0.0000000e+00, 0.0000000e+00, 0.0000000e+00, 0.0000000e+00,\n",
      "       0.0000000e+00]), 'P_bar': array([ 0.000000e+00,  0.000000e+00,  0.000000e+00, -3.061617e-15,\n",
      "        5.000000e+01,  0.000000e+00,  5.000000e+00, -2.000000e+01,\n",
      "        0.000000e+00]), 'P': array([ 6.0000000e+01,  3.6739404e-15,  1.2000000e+02, -3.0616170e-15,\n",
      "        5.0000000e+01,  0.0000000e+00,  5.0000000e+00, -2.0000000e+01,\n",
      "        0.0000000e+00])}\n",
      "[-5.15475855e+01 -1.08011387e+02  3.58490463e+01 -8.15475855e+01\n",
      "  3.58490463e+01 -2.02905202e+01  7.91088195e+00 -1.25995542e+02\n",
      " -1.08011387e+02 -6.29108820e+01  2.90520222e-01  7.21644966e-16]\n"
     ]
    }
   ],
   "metadata": {}
  },
  {
   "cell_type": "markdown",
   "source": [
    "## Beispiel 7: Skript 1.6.4: Verschieblicher Rahmen\r\n"
   ],
   "metadata": {}
  },
  {
   "cell_type": "code",
   "execution_count": 24,
   "source": [
    "db7 = {\r\n",
    "    'matqs': {\r\n",
    "        'materials': {\r\n",
    "            '1': {'E': 100000}\r\n",
    "        },\r\n",
    "\r\n",
    "        'cross_sections': {\r\n",
    "            '1': {'h': 0.41602, 'b': 100000}\r\n",
    "        },\r\n",
    "    },\r\n",
    "\r\n",
    "    'system': {\r\n",
    "        'nodes': {\r\n",
    "            '1': {'x':  0, 'z': 0, 'sup': {'x': -1, 'z': -1, 'y': -1}, 'alpha': 0.0},\r\n",
    "            '2': {'x':  3, 'z': 0, 'sup': {'x':  0, 'z':  0, 'y':  0}, 'alpha': 0.0},\r\n",
    "            '3': {'x':  6, 'z': 0, 'sup': {'x':  0, 'z':  0, 'y':  0}, 'alpha': 0.0},\r\n",
    "            '4': {'x':  6, 'z': 2, 'sup': {'x':  0, 'z':  0, 'y':  0}, 'alpha': 0.0},\r\n",
    "            '5': {'x':  6, 'z': 6, 'sup': {'x': -1, 'z': -1, 'y': -1}, 'alpha': 0.0},\r\n",
    "            '6': {'x': 12, 'z': 2, 'sup': {'x':  0, 'z':  0, 'y':  0}, 'alpha': 0.0},\r\n",
    "            '7': {'x': 12, 'z': 6, 'sup': {'x': -1, 'z': -1, 'y': -1}, 'alpha': 0.0},\r\n",
    "        },\r\n",
    "\r\n",
    "        'bars': { # globale barteilung in dat vorgeben, lokal überschreitbar, Liste der Koordinaten hier speichern\r\n",
    "            '1':  {'l': '1', 'r': '2', 'EI': 10000, 'EA': 100000000, 'fixa': {'N': -1, 'V': -1, 'M': -1}, 'fixe': {'N': -1, 'V': -1, 'M': -1}, 'elems': 20},\r\n",
    "            '11': {'l': '2', 'r': '3', 'EI': 10000, 'EA': 100000000, 'fixa': {'N': -1, 'V': -1, 'M': -1}, 'fixe': {'N': -1, 'V': -1, 'M': -1}, 'elems': 20},\r\n",
    "            '2':  {'l': '4', 'r': '6', 'EI': 10000, 'EA': 100000000, 'fixa': {'N': -1, 'V': -1, 'M': -1}, 'fixe': {'N': -1, 'V': -1, 'M': -1}, 'elems': 20},\r\n",
    "            '3':  {'l': '3', 'r': '4', 'EI':  5000, 'EA': 100000000, 'fixa': {'N': -1, 'V': -1, 'M': -1}, 'fixe': {'N': -1, 'V': -1, 'M': -1}, 'elems': 20},\r\n",
    "            '4':  {'l': '4', 'r': '5', 'EI':  5000, 'EA': 100000000, 'fixa': {'N': -1, 'V': -1, 'M': -1}, 'fixe': {'N': -1, 'V': -1, 'M': -1}, 'elems': 20},\r\n",
    "            '5':  {'l': '6', 'r': '7', 'EI':  5000, 'EA': 100000000, 'fixa': {'N': -1, 'V': -1, 'M': -1}, 'fixe': {'N': -1, 'V': -1, 'M': -1}, 'elems': 20},\r\n",
    "        },\r\n",
    "    },\r\n",
    "\r\n",
    "    'load': {\r\n",
    "        'LF_Komb': {\r\n",
    "            'G_1': {'GAMU': 1.35, 'GAMF': 1.00, 'PSI0': 1.00, 'PSI1': 1.00, 'PSI2': 1.00},\r\n",
    "            'G_2': {'GAMU': 1.35, 'GAMF': 1.00, 'PSI0': 1.00, 'PSI1': 1.00, 'PSI2': 1.00},\r\n",
    "            'Q_1': {'GAMU': 1.50, 'GAMF': 0.00, 'PSI0': 0.80, 'PSI1': 0.30, 'PSI2': 0.20},\r\n",
    "        },\r\n",
    "\r\n",
    "        'LC': {\r\n",
    "            '1': {\r\n",
    "                'type': 'G_1', \r\n",
    "\r\n",
    "                'node': [\r\n",
    "                    {'nr': '2', 'val': 10, 'type': 'F', 'alpha': 90},\r\n",
    "                    #{'nr': '4', 'val': -20, 'type': 'M'},\r\n",
    "                    #{'nr': '4', 'val': 5, 'type': 'F', 'alpha': 90},\r\n",
    "                ],\r\n",
    "\r\n",
    "                'bar': [\r\n",
    "                    {'nr': '5', 'p_zl': 5, 'p_zr': 5, 'p_xl': 0, 'p_xr': 0},\r\n",
    "                ]\r\n",
    "            }\r\n",
    "        }\r\n",
    "    },\r\n",
    "\r\n",
    "    'calc': {\r\n",
    "        '1': None \r\n",
    "    },\r\n",
    "\r\n",
    "    'comb': {\r\n",
    "        \r\n",
    "    },\r\n",
    "}"
   ],
   "outputs": [],
   "metadata": {}
  },
  {
   "cell_type": "code",
   "execution_count": 25,
   "source": [
    "main.calculate_system(db7)\r\n",
    "main.calculate_load(db7)\r\n",
    "main.calculate_calc(db7)"
   ],
   "outputs": [],
   "metadata": {}
  },
  {
   "cell_type": "code",
   "execution_count": 26,
   "source": [
    "a, pos = db7['system']['wgv']['a'], db7['system']['wgv']['node_deforms']\r\n",
    "\r\n",
    "for p in pos:\r\n",
    "    print(\"  \", p[0], p[1], end = \"\")\r\n",
    "print()\r\n",
    "bar_nrs = list(db7['system']['bars'])\r\n",
    "for i, row in enumerate(a):\r\n",
    "    stab = bar_nrs[i//3]\r\n",
    "    #print(stab, end=\" \")\r\n",
    "    for value in row:\r\n",
    "        text = f'{value:+.2f}' if round(value, 5) != 0 else ' '*5\r\n",
    "        #print(text, end=\" \")\r\n",
    "    #print()\r\n",
    "\r\n",
    "print()\r\n",
    "k = db7['system']['wgv']['k']\r\n",
    "for row in k:\r\n",
    "    for value in row:\r\n",
    "        text = f'{value:+9.2f}' if round(value, 5) != 0 else ' '*9\r\n",
    "        print(text, end=\" \")\r\n",
    "    print()\r\n",
    "\r\n",
    "print()\r\n",
    "K = db7['system']['wgv']['K']\r\n",
    "for row in K:\r\n",
    "    for value in row:\r\n",
    "        text = f'{value:+9.2f}' if round(value, 5) != 0 else ' '*9\r\n",
    "        print(text, end=\" \")\r\n",
    "    print()"
   ],
   "outputs": [
    {
     "output_type": "stream",
     "name": "stdout",
     "text": [
      "   2 x   2 z   2 y   3 x   3 z   3 y   4 x   4 z   4 y   6 x   6 z   6 y\n",
      "\n",
      "+33333333.33                                                                                                                                                                           \n",
      "          +13333.33  +6666.67                                                                                                                                                       \n",
      "           +6666.67 +13333.33                                                                                                                                                       \n",
      "                              +33333333.33                                                                                                                                             \n",
      "                                        +13333.33  +6666.67                                                                                                                         \n",
      "                                         +6666.67 +13333.33                                                                                                                         \n",
      "                                                            +16666666.67                                                                                                               \n",
      "                                                                       +6666.67  +3333.33                                                                                           \n",
      "                                                                       +3333.33  +6666.67                                                                                           \n",
      "                                                                                          +50000000.00                                                                                 \n",
      "                                                                                                    +10000.00  +5000.00                                                             \n",
      "                                                                                                     +5000.00 +10000.00                                                             \n",
      "                                                                                                                        +25000000.00                                                   \n",
      "                                                                                                                                   +5000.00  +2500.00                               \n",
      "                                                                                                                                   +2500.00  +5000.00                               \n",
      "                                                                                                                                                      +25000000.00                     \n",
      "                                                                                                                                                                 +5000.00  +2500.00 \n",
      "                                                                                                                                                                 +2500.00  +5000.00 \n",
      "\n",
      "+66666666.67                     -33333333.33                                                                                 \n",
      "           +8888.89                      -4444.44  -6666.67                                                             \n",
      "                    +26666.67            +6666.67  +6666.67                                                             \n",
      "-33333333.33                     +33340833.33            +7500.00  -7500.00            +7500.00                               \n",
      "           -4444.44  +6666.67           +50004444.44  +6666.67           -50000000.00                                         \n",
      "           -6666.67  +6666.67  +7500.00  +6666.67 +23333.33  -7500.00            +5000.00                               \n",
      "                               -7500.00            -7500.00 +16675104.17            -5625.00 -16666666.67                     \n",
      "                                        -50000000.00                     +75000555.56  -1666.67             -555.56  -1666.67 \n",
      "                               +7500.00            +5000.00  -5625.00  -1666.67 +21666.67            +1666.67  +3333.33 \n",
      "                                                            -16666666.67                     +16667604.17            +1875.00 \n",
      "                                                                        -555.56  +1666.67           +25000555.56  +1666.67 \n",
      "                                                                       -1666.67  +3333.33  +1875.00  +1666.67 +11666.67 \n"
     ]
    }
   ],
   "metadata": {}
  },
  {
   "cell_type": "code",
   "execution_count": 27,
   "source": [
    "print(db7['load']['LC']['1']['wgv'])\r\n",
    "#print(db5['calc']['1']['s']['1']['M'])\r\n",
    "print(db7['calc']['1']['s_I'])\r\n",
    "#main.save_database(db5, 'db_bsp5.json')"
   ],
   "outputs": [
    {
     "output_type": "stream",
     "name": "stdout",
     "text": [
      "{'s_0': array([ 0.        ,  0.        ,  0.        ,  0.        ,  0.        ,\n",
      "        0.        ,  0.        ,  0.        ,  0.        ,  0.        ,\n",
      "        0.        ,  0.        ,  0.        ,  0.        ,  0.        ,\n",
      "        0.        ,  6.66666667, -6.66666667]), 'P_0': array([ 0.000000e+00,  0.000000e+00,  0.000000e+00,  0.000000e+00,\n",
      "        0.000000e+00,  0.000000e+00,  0.000000e+00,  0.000000e+00,\n",
      "        0.000000e+00, -1.000000e+01,  6.123234e-16,  0.000000e+00]), 'P_bar': array([-6.123234e-16,  1.000000e+01,  0.000000e+00,  0.000000e+00,\n",
      "        0.000000e+00,  0.000000e+00,  0.000000e+00,  0.000000e+00,\n",
      "        0.000000e+00,  0.000000e+00,  0.000000e+00,  0.000000e+00]), 'P': array([-6.12323400e-16,  1.00000000e+01,  0.00000000e+00,  0.00000000e+00,\n",
      "        0.00000000e+00,  0.00000000e+00,  0.00000000e+00,  0.00000000e+00,\n",
      "        0.00000000e+00, -1.00000000e+01,  6.12323400e-16, -6.66666667e+00])}\n",
      "[-6.7861285  -7.5313462   7.51545535 -6.7861285   7.51545535 -7.4377431\n",
      " -8.33306816  2.72641879 -2.93890491 -4.98439948 -7.4377431   6.1345139\n",
      " -4.04017887  3.40809511 -2.77966354 -0.94422062  2.93890491 -9.60663226]\n"
     ]
    }
   ],
   "metadata": {}
  },
  {
   "cell_type": "markdown",
   "source": [
    "## Beispiel 8: Gerberträger\r\n"
   ],
   "metadata": {}
  },
  {
   "cell_type": "markdown",
   "source": [
    "### liefert noch Fehler: Gelenkiger Anschluss an eingespannten Knoten ergibt Stabendmoment"
   ],
   "metadata": {}
  },
  {
   "cell_type": "code",
   "execution_count": 24,
   "source": [
    "db8 = {\r\n",
    "    'matqs': {\r\n",
    "        'materials': {\r\n",
    "            '1': {'E': 100000}\r\n",
    "        },\r\n",
    "\r\n",
    "        'cross_sections': {\r\n",
    "            '1': {'h': 0.41602, 'b': 100000}\r\n",
    "        },\r\n",
    "    },\r\n",
    "\r\n",
    "    'system': {\r\n",
    "        'nodes': {\r\n",
    "            '1': {'x':  0, 'z': 0, 'sup': {'x': -1, 'z': -1, 'y':  0}, 'alpha': 0.0},\r\n",
    "            '2': {'x':  5, 'z': 0, 'sup': {'x': -1, 'z': -1, 'y':  0}, 'alpha': 0.0},\r\n",
    "            '3': {'x': 10, 'z': 0, 'sup': {'x': -1, 'z': -1, 'y':  0}, 'alpha': 0.0},\r\n",
    "            '4': {'x': 15, 'z': 0, 'sup': {'x': -1, 'z': -1, 'y': -1}, 'alpha': 0.0},\r\n",
    "        },\r\n",
    "\r\n",
    "        'bars': { # globale barteilung in dat vorgeben, lokal überschreitbar, Liste der Koordinaten hier speichern\r\n",
    "            '1':  {'l': '1', 'r': '2', 'EI': 10000, 'EA': 100000000, 'fixa': {'N': -1, 'V': -1, 'M': -1}, 'fixe': {'N': -1, 'V': -1, 'M': -1}, 'elems': 20},\r\n",
    "            '2':  {'l': '2', 'r': '3', 'EI': 10000, 'EA': 100000000, 'fixa': {'N': -1, 'V': -1, 'M': -1}, 'fixe': {'N': -1, 'V': -1, 'M': -1}, 'elems': 20},\r\n",
    "            '3':  {'l': '3', 'r': '4', 'EI': 10000, 'EA': 100000000, 'fixa': {'N': -1, 'V': -1, 'M':  0}, 'fixe': {'N': -1, 'V': -1, 'M':  0}, 'elems': 20},\r\n",
    "        },\r\n",
    "    },\r\n",
    "\r\n",
    "    'load': {\r\n",
    "        'LC_Comb': {    #TODO Name geändert von LF_Komb -> Auswirkungen?\r\n",
    "            'G_1': {'GAMU': 1.35, 'GAMF': 1.00, 'PSI0': 1.00, 'PSI1': 1.00, 'PSI2': 1.00},\r\n",
    "            'G_2': {'GAMU': 1.35, 'GAMF': 1.00, 'PSI0': 1.00, 'PSI1': 1.00, 'PSI2': 1.00},\r\n",
    "            'Q_1': {'GAMU': 1.50, 'GAMF': 0.00, 'PSI0': 0.80, 'PSI1': 0.30, 'PSI2': 0.20},\r\n",
    "        },\r\n",
    "\r\n",
    "        'LC': {\r\n",
    "            '1': {\r\n",
    "                'type': 'G_1', \r\n",
    "\r\n",
    "                'node': [\r\n",
    "                    #{'nr': '2', 'val': 10, 'type': 'F', 'alpha': 90},\r\n",
    "                    #{'nr': '4', 'val': -20, 'type': 'M'},\r\n",
    "                    #{'nr': '4', 'val': 5, 'type': 'F', 'alpha': 90},\r\n",
    "                ],\r\n",
    "\r\n",
    "                'bar': [\r\n",
    "                    {'nr': '1', 'p_zl': 5, 'p_zr': 5, 'p_xl': 0, 'p_xr': 0},\r\n",
    "                    {'nr': '2', 'p_zl': 5, 'p_zr': 5, 'p_xl': 0, 'p_xr': 0},\r\n",
    "                    {'nr': '3', 'p_zl': 5, 'p_zr': 5, 'p_xl': 0, 'p_xr': 0},\r\n",
    "                ]\r\n",
    "            }\r\n",
    "        }\r\n",
    "    },\r\n",
    "\r\n",
    "    'calc': {\r\n",
    "        '1': None \r\n",
    "    },\r\n",
    "\r\n",
    "    'comb': {\r\n",
    "        \r\n",
    "    },\r\n",
    "}"
   ],
   "outputs": [],
   "metadata": {}
  },
  {
   "cell_type": "code",
   "execution_count": 25,
   "source": [
    "main.calculate_system(db8)\r\n",
    "main.calculate_load(db8)\r\n",
    "main.calculate_calc(db8)"
   ],
   "outputs": [],
   "metadata": {}
  },
  {
   "cell_type": "code",
   "execution_count": 26,
   "source": [
    "a, pos = db8['system']['wgv']['a'], db8['system']['wgv']['node_deforms']\r\n",
    "\r\n",
    "for p in pos:\r\n",
    "    print(\"  \", p[0], p[1], end = \"\")\r\n",
    "print()\r\n",
    "bar_nrs = list(db8['system']['bars'])\r\n",
    "for i, row in enumerate(a):\r\n",
    "    stab = bar_nrs[i//3]\r\n",
    "    #print(stab, end=\" \")\r\n",
    "    for value in row:\r\n",
    "        text = f'{value:+.2f}' if round(value, 5) != 0 else ' '*5\r\n",
    "        #print(text, end=\" \")\r\n",
    "    #print()\r\n",
    "\r\n",
    "print()\r\n",
    "k = db8['system']['wgv']['k']\r\n",
    "for row in k:\r\n",
    "    for value in row:\r\n",
    "        text = f'{value:+9.2f}' if round(value, 5) != 0 else ' '*9\r\n",
    "        print(text, end=\" \")\r\n",
    "    print()\r\n",
    "\r\n",
    "print()\r\n",
    "K = db8['system']['wgv']['K']\r\n",
    "for row in K:\r\n",
    "    for value in row:\r\n",
    "        text = f'{value:+9.2f}' if round(value, 5) != 0 else ' '*9\r\n",
    "        print(text, end=\" \")\r\n",
    "    print()"
   ],
   "outputs": [
    {
     "output_type": "stream",
     "name": "stdout",
     "text": [
      "   3 y   1 y   2 y   3 y\n",
      "\n",
      "+20000000.00                                                                                 \n",
      "           +8000.00  +4000.00                                                             \n",
      "           +4000.00  +8000.00                                                             \n",
      "                              +20000000.00                                                   \n",
      "                                         +8000.00  +4000.00                               \n",
      "                                         +4000.00  +8000.00                               \n",
      "                                                            +20000000.00                     \n",
      "                                                                       +8000.00  +4000.00 \n",
      "                                                                       +4000.00  +8000.00 \n",
      "\n",
      " +8000.00                               \n",
      "           +8000.00  +4000.00           \n",
      "           +4000.00 +16000.00  +4000.00 \n",
      "                     +4000.00  +8000.00 \n"
     ]
    }
   ],
   "metadata": {}
  },
  {
   "cell_type": "code",
   "execution_count": 27,
   "source": [
    "#print(db8['load']['LC']['1']['wgv'])\r\n",
    "#print(db5['calc']['1']['s']['1']['M'])\r\n",
    "print(db8['calc']['1']['s_I'])\r\n",
    "#main.save_database(db5, 'db_bsp5.json')"
   ],
   "outputs": [
    {
     "output_type": "stream",
     "name": "stdout",
     "text": [
      "[  0.     -0.    -15.625   0.    -15.625   0.      0.     -0.    -15.625]\n"
     ]
    }
   ],
   "metadata": {}
  },
  {
   "cell_type": "markdown",
   "source": [
    "# Laufzeittests\r\n"
   ],
   "metadata": {}
  },
  {
   "cell_type": "code",
   "execution_count": 5,
   "source": [
    "%timeit for x in range(50): main.calculate_system(db)"
   ],
   "outputs": [
    {
     "output_type": "stream",
     "name": "stdout",
     "text": [
      "18.1 ms ± 5.24 ms per loop (mean ± std. dev. of 7 runs, 10 loops each)\n"
     ]
    }
   ],
   "metadata": {}
  },
  {
   "cell_type": "code",
   "execution_count": 6,
   "source": [
    "%timeit for x in range(50): main.calculate_load(db)"
   ],
   "outputs": [
    {
     "output_type": "stream",
     "name": "stdout",
     "text": [
      "4.29 ms ± 515 µs per loop (mean ± std. dev. of 7 runs, 100 loops each)\n"
     ]
    }
   ],
   "metadata": {}
  },
  {
   "cell_type": "code",
   "execution_count": 7,
   "source": [
    "%timeit for x in range(50): main.calculate_calc(db)"
   ],
   "outputs": [
    {
     "output_type": "stream",
     "name": "stdout",
     "text": [
      "21.9 µs ± 1.4 µs per loop (mean ± std. dev. of 7 runs, 10000 loops each)\n"
     ]
    }
   ],
   "metadata": {}
  }
 ]
}