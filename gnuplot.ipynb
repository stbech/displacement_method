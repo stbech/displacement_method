{
 "metadata": {
  "language_info": {
   "codemirror_mode": {
    "name": "ipython",
    "version": 3
   },
   "file_extension": ".py",
   "mimetype": "text/x-python",
   "name": "python",
   "nbconvert_exporter": "python",
   "pygments_lexer": "ipython3",
   "version": "3.8.2"
  },
  "orig_nbformat": 4,
  "kernelspec": {
   "name": "python3",
   "display_name": "Python 3.8.2 32-bit"
  },
  "interpreter": {
   "hash": "4487ce35dd150455cc8cee7ba062b874ebed2008c10055b51a501ef3fd24d173"
  }
 },
 "nbformat": 4,
 "nbformat_minor": 2,
 "cells": [
  {
   "cell_type": "code",
   "execution_count": 1,
   "source": [
    "import numpy as np\r\n",
    "import json"
   ],
   "outputs": [],
   "metadata": {}
  },
  {
   "cell_type": "code",
   "execution_count": 2,
   "source": [
    "from matplotlib import pyplot as plt"
   ],
   "outputs": [],
   "metadata": {}
  },
  {
   "cell_type": "markdown",
   "source": [
    "# System"
   ],
   "metadata": {}
  },
  {
   "cell_type": "code",
   "execution_count": 3,
   "source": [
    "def write_system(file: str, db: dict) -> None: \r\n",
    "    offset = 0.05   # Abstand z-Linie von Systemlinie\r\n",
    "\r\n",
    "    with open(file, 'w') as f:\r\n",
    "        f.write('#   x,    y\\n')\r\n",
    "        for stab in (db['sofimshc']['staebe']).items():\r\n",
    "            f.write(f'# Stab {stab[0]}\\n')\r\n",
    "            for lr in ('l', 'r'):\r\n",
    "                x = db['sofimshc']['knoten'][str(stab[1][lr])]['x']\r\n",
    "                y = db['sofimshc']['knoten'][str(stab[1][lr])]['z']\r\n",
    "                f.write(f'{x:.3f} {y:.3f}\\n')\r\n",
    "            f.write('\\n')\r\n",
    "\r\n",
    "            for lr in ('l', 'r'):\r\n",
    "                x = db['sofimshc']['knoten'][str(stab[1][lr])]['x'] + np.sin(np.radians(stab[1]['alpha']))*offset\r\n",
    "                y = db['sofimshc']['knoten'][str(stab[1][lr])]['z'] + np.cos(np.radians(stab[1]['alpha']))*offset\r\n",
    "                f.write(f'{x:.3f} {y:.3f}\\n')\r\n",
    "            f.write('\\n')"
   ],
   "outputs": [],
   "metadata": {}
  },
  {
   "cell_type": "markdown",
   "source": [
    "## Auflager"
   ],
   "metadata": {}
  },
  {
   "cell_type": "code",
   "execution_count": 4,
   "source": [
    "support_Z = [\r\n",
    "    (0, 0, 0.75, 1),\r\n",
    "    (0, 0, -0.75, 1),\r\n",
    "    (0.75, 1, -0.75, 1),\r\n",
    "    (1.2, 1.3, -1.2, 1.3),\r\n",
    "]\r\n",
    "\r\n",
    "support_XZ = [\r\n",
    "    (0    , 0, 0.75, 1),\r\n",
    "    (0    , 0, -0.75, 1),\r\n",
    "    (1.2  , 1, -1.2, 1),\r\n",
    "    (-0.8 , 1, -1.1, 1.3),\r\n",
    "    (-0.35, 1, -0.65, 1.3),\r\n",
    "    ( 0.1 , 1, -0.2, 1.3),\r\n",
    "    ( 0.55, 1,  0.25, 1.3),\r\n",
    "    ( 1.00, 1,  0.7, 1.3),\r\n",
    "]\r\n",
    "\r\n",
    "support_XY = [\r\n",
    "    (0, 1.2, 0, -1.2),\r\n",
    "    (-0.3, 1.2, -0.3, -1.2),\r\n",
    "    (-0.3, -0.8, -0.6, -1.1),\r\n",
    "    (-0.3, -0.35, -0.6, -0.65),\r\n",
    "    (-0.3,  0.1, -0.6, -0.2),\r\n",
    "    (-0.3, 0.55, -0.6, 0.25),\r\n",
    "    (-0.3,  1.0, -0.6, 0.7),\r\n",
    "]\r\n",
    "\r\n",
    "support_XYZ = [\r\n",
    "    (0, 1.2, 0, -1.2),\r\n",
    "    (0, -0.8, -0.3, -1.1),\r\n",
    "    (0, -0.35, -0.3, -0.65),\r\n",
    "    (0,  0.1, -0.3, -0.2),\r\n",
    "    (0, 0.55, -0.3, 0.25),\r\n",
    "    (0,  1.0, -0.3, 0.7),\r\n",
    "]"
   ],
   "outputs": [],
   "metadata": {}
  },
  {
   "cell_type": "code",
   "execution_count": 5,
   "source": [
    "def rotate_support(lines: list, angle: float):\r\n",
    "    new_lines = []\r\n",
    "    rad = np.radians(angle)\r\n",
    "    for line in lines:\r\n",
    "        x_1 = line[0]*np.cos(rad) - line[1]*np.sin(rad)\r\n",
    "        y_1 = line[0]*np.sin(rad) + line[1]*np.cos(rad)\r\n",
    "        x_2 = line[2]*np.cos(rad) - line[3]*np.sin(rad)\r\n",
    "        y_2 = line[2]*np.sin(rad) + line[3]*np.cos(rad)\r\n",
    "\r\n",
    "        new_lines.append((x_1, y_1, x_2, y_2))\r\n",
    "\r\n",
    "    return new_lines\r\n",
    "\r\n",
    "\r\n",
    "\r\n",
    "def get_support_type(supports: dict):\r\n",
    "    if supports == {'x': -1, 'z': -1, 'y': -1}: \r\n",
    "        return support_XYZ\r\n",
    "    elif supports == {'x': -1, 'z': -1, 'y': 0}: \r\n",
    "        return support_XZ\r\n",
    "    elif supports == {'x': -1, 'z': 0, 'y': -1}: \r\n",
    "        return support_XY\r\n",
    "    elif supports == {'x': 0, 'z': -1, 'y': -1}: \r\n",
    "        return rotate_support(support_XY, -90)\r\n",
    "    elif supports == {'x': 0, 'z': -1, 'y': 0}: \r\n",
    "        print('t')\r\n",
    "        return support_Z \r\n",
    "    elif supports == {'x': -1, 'z': 0, 'y': 0}: \r\n",
    "        return rotate_support(support_Z, 90)\r\n",
    "\r\n",
    "\r\n",
    "\r\n",
    "def support_text(knot: tuple):\r\n",
    "    lines = get_support_type(knot[1]['sup'])\r\n",
    "    if not(lines):\r\n",
    "        return []\r\n",
    "    lines = rotate_support(lines, knot[1]['alpha'])\r\n",
    "    text = [f'# Knoten {knot[0]}\\n']\r\n",
    "    \r\n",
    "    x = knot[1]['x']\r\n",
    "    y = knot[1]['z']\r\n",
    "    for line in lines: \r\n",
    "        for i in range(2):\r\n",
    "            text.append(f'{x:.3f} {y:.3f} {line[2*i]:.3f} {line[2*i+1]:.3f}\\n')\r\n",
    "        text.append('\\n')\r\n",
    "\r\n",
    "    return text\r\n",
    "\r\n",
    "\r\n",
    "\r\n",
    "def write_support(file: str, db: dict) -> None:\r\n",
    "    with open(file, 'w') as f:\r\n",
    "        f.write('#   x,    y, delta_x, delta_y\\n')\r\n",
    "        for knot in (db['sofimshc']['knoten']).items():\r\n",
    "            f.writelines(support_text(knot))\r\n",
    "            f.write('\\n')"
   ],
   "outputs": [],
   "metadata": {}
  },
  {
   "cell_type": "markdown",
   "source": [
    "# Schnittgrößen ausgeben"
   ],
   "metadata": {}
  },
  {
   "cell_type": "code",
   "execution_count": 6,
   "source": [
    "def write_schnittgroessen(file: str, db: dict) -> None:\r\n",
    "    with open(file, 'w') as f:\r\n",
    "        f.write(f'# x,   y,    alpha, Schnittgroesse \\n')\r\n",
    "        for nr_stab, stab in db['sofimshc']['staebe'].items():\r\n",
    "            for s in ('N', 'V', 'M'):\r\n",
    "                f.write(f'# Stab {nr_stab}            {s}\\n')\r\n",
    "\r\n",
    "                alpha = db['sofimshc']['staebe'][nr_stab]['alpha']\r\n",
    "                x_l = db['sofimshc']['knoten'][str(db['sofimshc']['staebe'][nr_stab]['l'])]['x']\r\n",
    "                z_l = db['sofimshc']['knoten'][str(db['sofimshc']['staebe'][nr_stab]['l'])]['z']\r\n",
    "\r\n",
    "                for i, point in enumerate(stab['points']):\r\n",
    "                    x_i = x_l + np.cos(np.radians(alpha))*point\r\n",
    "                    z_i = z_l - np.sin(np.radians(alpha))*point\r\n",
    "                    s_i = db['ase']['1']['s'][nr_stab][s][i]\r\n",
    "\r\n",
    "                    if i == 0:\r\n",
    "                        f.write(f'{x_i:.3f}  {z_i:.3f}  {alpha:.3f}  0.000\\n')\r\n",
    "                    f.write(f'{x_i:.3f}  {z_i:.3f}  {alpha:.3f}  {s_i:.3f}\\n')\r\n",
    "                f.write(f'{x_i:.3f}  {z_i:.3f}  {alpha:.3f}  0.000\\n')\r\n",
    "                f.write(f'\\n')"
   ],
   "outputs": [],
   "metadata": {}
  },
  {
   "cell_type": "markdown",
   "source": [
    "# Datenbasis laden"
   ],
   "metadata": {}
  },
  {
   "cell_type": "code",
   "execution_count": 7,
   "source": [
    "with open('db.json') as f:\r\n",
    "    db = json.load(f)"
   ],
   "outputs": [],
   "metadata": {}
  },
  {
   "cell_type": "code",
   "execution_count": 8,
   "source": [
    "write_system('system.gpd', db)"
   ],
   "outputs": [],
   "metadata": {}
  },
  {
   "cell_type": "code",
   "execution_count": 9,
   "source": [
    "write_support('support.gpd', db)"
   ],
   "outputs": [],
   "metadata": {}
  },
  {
   "cell_type": "code",
   "execution_count": 10,
   "source": [
    "write_schnittgroessen('schnittgroessen.gpd', db)"
   ],
   "outputs": [],
   "metadata": {}
  },
  {
   "cell_type": "markdown",
   "source": [
    "# Gnuplot"
   ],
   "metadata": {}
  },
  {
   "cell_type": "code",
   "execution_count": 11,
   "source": [
    "# Gnuplot-Befehl\r\n",
    "#plot \"structure.gpd\" every:2 with lines notitle lt rgb 'black', '' every:2::1  with lines linetype rgb 'black' dashtype 2 notitle\r\n",
    "# Kreis zeichnen\r\n",
    "#set object 1 circle front at 0.5,0.5 size 0.1 fillcolor rgb \"black\" lw 1\r\n",
    "# plot 'support.gpd' using ($1+factor*$3):($2+factor*$4) with lines notitle linetype rgb 'black' ,\"structure.gpd\" every:2 with lines notitle lt rgb 'black', '' every:2::1  with lines linetype rgb 'black' dashtype 2 notitle"
   ],
   "outputs": [],
   "metadata": {}
  },
  {
   "cell_type": "markdown",
   "source": [
    "# Lager"
   ],
   "metadata": {}
  },
  {
   "cell_type": "code",
   "execution_count": 12,
   "source": [
    "circle1 = plt.Circle((0,0), 0.25, fill=False)\r\n",
    "\r\n",
    "plt.plot([0, 0.75], [0,1], 'k')\r\n",
    "plt.plot([0, -0.75], [0,1], 'k-')\r\n",
    "plt.plot([1.2, -1.2], [1,1], 'k-')\r\n",
    "\r\n",
    "for i in range(5):\r\n",
    "    plt.plot([-0.8+i*0.45, -1.1+i*0.45], [1,1.3], 'k-')\r\n",
    "\"\"\"\r\n",
    "    plt.plot([-0.45, -0.85], [1,1.4], 'k-')\r\n",
    "    plt.plot([-0.9, -1.3], [1,1.4], 'k-')\r\n",
    "\r\n",
    "    plt.plot([0.45, 0.05], [1,1.4], 'k-')\r\n",
    "    plt.plot([0.9, 0.5], [1,1.4], 'k-')\r\n",
    "\"\"\"\r\n",
    "\r\n",
    "\r\n",
    "plt.axis('scaled')\r\n",
    "plt.xlim(-2, 2)\r\n",
    "plt.ylim(-2, 2)\r\n",
    "ax = plt.gca()\r\n",
    "ax.invert_yaxis()\r\n",
    "ax.add_patch(circle1)"
   ],
   "outputs": [
    {
     "output_type": "execute_result",
     "data": {
      "text/plain": [
       "<matplotlib.patches.Circle at 0xf693280>"
      ]
     },
     "metadata": {},
     "execution_count": 12
    },
    {
     "output_type": "display_data",
     "data": {
      "text/plain": [
       "<Figure size 432x288 with 1 Axes>"
      ],
      "image/png": "[encoded data removed]"
     },
     "metadata": {
      "needs_background": "light"
     }
    }
   ],
   "metadata": {}
  }
 ]
}